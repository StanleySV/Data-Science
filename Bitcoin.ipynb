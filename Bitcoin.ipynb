{
 "cells": [
  {
   "cell_type": "code",
   "execution_count": 2,
   "metadata": {},
   "outputs": [],
   "source": [
    "import pandas as pd\n",
    "import matplotlib.pyplot as plt\n",
    "pd.options.mode.chained_assignment = None\n",
    "%matplotlib inline\n",
    "\n"
   ]
  },
  {
   "cell_type": "code",
   "execution_count": 3,
   "metadata": {},
   "outputs": [
    {
     "data": {
      "text/plain": [
       "<bound method DataFrame.info of      Currency        Date  Closing Price (USD)  24h Open (USD)  \\\n",
       "0         BTC  2014-11-03           331.600830      325.226330   \n",
       "1         BTC  2014-11-04           324.718330      331.600830   \n",
       "2         BTC  2014-11-05           332.456660      324.718330   \n",
       "3         BTC  2014-11-06           336.585000      332.456660   \n",
       "4         BTC  2014-11-07           346.775000      336.585000   \n",
       "...       ...         ...                  ...             ...   \n",
       "2547      BTC  2021-10-25         60936.150851    61304.790355   \n",
       "2548      BTC  2021-10-26         63004.381115    60860.032655   \n",
       "2549      BTC  2021-10-27         60399.734933    63080.305703   \n",
       "2550      BTC  2021-10-28         58602.202535    60329.938740   \n",
       "2551      BTC  2021-10-29         60619.266944    58476.184714   \n",
       "\n",
       "      24h High (USD)  24h Low (USD)  \n",
       "0         333.759830     319.043500  \n",
       "1         332.751330     323.063330  \n",
       "2         335.811660     320.933330  \n",
       "3         341.490000     328.561660  \n",
       "4         351.575000     336.028330  \n",
       "...              ...            ...  \n",
       "2547    61490.095150   59553.027885  \n",
       "2548    63661.925180   60656.561825  \n",
       "2549    63276.547846   59925.126116  \n",
       "2550    61486.427448   58108.911168  \n",
       "2551    62450.034023   57965.311022  \n",
       "\n",
       "[2552 rows x 6 columns]>"
      ]
     },
     "execution_count": 3,
     "metadata": {},
     "output_type": "execute_result"
    }
   ],
   "source": [
    "price=pd.read_csv(\"D:/Downloads/bitcoin.csv\")\n",
    "price.info\n"
   ]
  },
  {
   "cell_type": "code",
   "execution_count": 4,
   "metadata": {},
   "outputs": [],
   "source": [
    "price=price.dropna()"
   ]
  },
  {
   "cell_type": "code",
   "execution_count": 5,
   "metadata": {},
   "outputs": [],
   "source": [
    "price['Date']= pd.to_datetime (price['Date'],format=\"%Y-%m-%d\")"
   ]
  },
  {
   "cell_type": "code",
   "execution_count": 7,
   "metadata": {},
   "outputs": [],
   "source": [
    "# print(price['Date'])\n",
    "price.index=price['Date']\n",
    "del price['Date']"
   ]
  },
  {
   "cell_type": "code",
   "execution_count": 12,
   "metadata": {},
   "outputs": [
    {
     "name": "stderr",
     "output_type": "stream",
     "text": [
      "<ipython-input-12-55a208735a98>:1: FutureWarning: Indexing a DataFrame with a datetimelike index using a single string to slice the rows, like `frame[string]`, is deprecated and will be removed in a future version. Use `frame.loc[string]` instead.\n",
      "  price['2020']\n"
     ]
    },
    {
     "data": {
      "text/html": [
       "<div>\n",
       "<style scoped>\n",
       "    .dataframe tbody tr th:only-of-type {\n",
       "        vertical-align: middle;\n",
       "    }\n",
       "\n",
       "    .dataframe tbody tr th {\n",
       "        vertical-align: top;\n",
       "    }\n",
       "\n",
       "    .dataframe thead th {\n",
       "        text-align: right;\n",
       "    }\n",
       "</style>\n",
       "<table border=\"1\" class=\"dataframe\">\n",
       "  <thead>\n",
       "    <tr style=\"text-align: right;\">\n",
       "      <th></th>\n",
       "      <th>Currency</th>\n",
       "      <th>Closing Price (USD)</th>\n",
       "      <th>24h Open (USD)</th>\n",
       "      <th>24h High (USD)</th>\n",
       "      <th>24h Low (USD)</th>\n",
       "    </tr>\n",
       "    <tr>\n",
       "      <th>Date</th>\n",
       "      <th></th>\n",
       "      <th></th>\n",
       "      <th></th>\n",
       "      <th></th>\n",
       "      <th></th>\n",
       "    </tr>\n",
       "  </thead>\n",
       "  <tbody>\n",
       "    <tr>\n",
       "      <th>2020-01-01</th>\n",
       "      <td>BTC</td>\n",
       "      <td>7179.957819</td>\n",
       "      <td>7251.277888</td>\n",
       "      <td>7298.892042</td>\n",
       "      <td>7119.626946</td>\n",
       "    </tr>\n",
       "    <tr>\n",
       "      <th>2020-01-02</th>\n",
       "      <td>BTC</td>\n",
       "      <td>7174.744012</td>\n",
       "      <td>7179.957689</td>\n",
       "      <td>7237.014866</td>\n",
       "      <td>7152.992402</td>\n",
       "    </tr>\n",
       "    <tr>\n",
       "      <th>2020-01-03</th>\n",
       "      <td>BTC</td>\n",
       "      <td>6955.487580</td>\n",
       "      <td>7174.712357</td>\n",
       "      <td>7190.188749</td>\n",
       "      <td>6914.857474</td>\n",
       "    </tr>\n",
       "    <tr>\n",
       "      <th>2020-01-04</th>\n",
       "      <td>BTC</td>\n",
       "      <td>7291.219505</td>\n",
       "      <td>6955.487580</td>\n",
       "      <td>7390.041835</td>\n",
       "      <td>6852.093401</td>\n",
       "    </tr>\n",
       "    <tr>\n",
       "      <th>2020-01-05</th>\n",
       "      <td>BTC</td>\n",
       "      <td>7337.636670</td>\n",
       "      <td>7291.217504</td>\n",
       "      <td>7390.762935</td>\n",
       "      <td>7263.178696</td>\n",
       "    </tr>\n",
       "    <tr>\n",
       "      <th>...</th>\n",
       "      <td>...</td>\n",
       "      <td>...</td>\n",
       "      <td>...</td>\n",
       "      <td>...</td>\n",
       "      <td>...</td>\n",
       "    </tr>\n",
       "    <tr>\n",
       "      <th>2020-12-27</th>\n",
       "      <td>BTC</td>\n",
       "      <td>26381.296233</td>\n",
       "      <td>24708.206784</td>\n",
       "      <td>26750.879954</td>\n",
       "      <td>24497.410869</td>\n",
       "    </tr>\n",
       "    <tr>\n",
       "      <th>2020-12-28</th>\n",
       "      <td>BTC</td>\n",
       "      <td>26389.290265</td>\n",
       "      <td>26447.708072</td>\n",
       "      <td>28352.627824</td>\n",
       "      <td>25759.068609</td>\n",
       "    </tr>\n",
       "    <tr>\n",
       "      <th>2020-12-29</th>\n",
       "      <td>BTC</td>\n",
       "      <td>26718.029463</td>\n",
       "      <td>26226.066130</td>\n",
       "      <td>27447.551384</td>\n",
       "      <td>26046.625578</td>\n",
       "    </tr>\n",
       "    <tr>\n",
       "      <th>2020-12-30</th>\n",
       "      <td>BTC</td>\n",
       "      <td>26975.729565</td>\n",
       "      <td>27038.735676</td>\n",
       "      <td>27169.225558</td>\n",
       "      <td>25875.049786</td>\n",
       "    </tr>\n",
       "    <tr>\n",
       "      <th>2020-12-31</th>\n",
       "      <td>BTC</td>\n",
       "      <td>28768.836208</td>\n",
       "      <td>27349.327233</td>\n",
       "      <td>28928.214391</td>\n",
       "      <td>27349.283204</td>\n",
       "    </tr>\n",
       "  </tbody>\n",
       "</table>\n",
       "<p>366 rows × 5 columns</p>\n",
       "</div>"
      ],
      "text/plain": [
       "           Currency  Closing Price (USD)  24h Open (USD)  24h High (USD)  \\\n",
       "Date                                                                       \n",
       "2020-01-01      BTC          7179.957819     7251.277888     7298.892042   \n",
       "2020-01-02      BTC          7174.744012     7179.957689     7237.014866   \n",
       "2020-01-03      BTC          6955.487580     7174.712357     7190.188749   \n",
       "2020-01-04      BTC          7291.219505     6955.487580     7390.041835   \n",
       "2020-01-05      BTC          7337.636670     7291.217504     7390.762935   \n",
       "...             ...                  ...             ...             ...   \n",
       "2020-12-27      BTC         26381.296233    24708.206784    26750.879954   \n",
       "2020-12-28      BTC         26389.290265    26447.708072    28352.627824   \n",
       "2020-12-29      BTC         26718.029463    26226.066130    27447.551384   \n",
       "2020-12-30      BTC         26975.729565    27038.735676    27169.225558   \n",
       "2020-12-31      BTC         28768.836208    27349.327233    28928.214391   \n",
       "\n",
       "            24h Low (USD)  \n",
       "Date                       \n",
       "2020-01-01    7119.626946  \n",
       "2020-01-02    7152.992402  \n",
       "2020-01-03    6914.857474  \n",
       "2020-01-04    6852.093401  \n",
       "2020-01-05    7263.178696  \n",
       "...                   ...  \n",
       "2020-12-27   24497.410869  \n",
       "2020-12-28   25759.068609  \n",
       "2020-12-29   26046.625578  \n",
       "2020-12-30   25875.049786  \n",
       "2020-12-31   27349.283204  \n",
       "\n",
       "[366 rows x 5 columns]"
      ]
     },
     "execution_count": 12,
     "metadata": {},
     "output_type": "execute_result"
    }
   ],
   "source": [
    "price['2020']"
   ]
  },
  {
   "cell_type": "code",
   "execution_count": 13,
   "metadata": {},
   "outputs": [
    {
     "data": {
      "text/plain": [
       "<bound method NDFrame._add_numeric_operations.<locals>.min of            Currency  Closing Price (USD)  24h Open (USD)  24h High (USD)  \\\n",
       "Date                                                                       \n",
       "2014-11-03      BTC           331.600830      325.226330      333.759830   \n",
       "2014-11-04      BTC           324.718330      331.600830      332.751330   \n",
       "2014-11-05      BTC           332.456660      324.718330      335.811660   \n",
       "2014-11-06      BTC           336.585000      332.456660      341.490000   \n",
       "2014-11-07      BTC           346.775000      336.585000      351.575000   \n",
       "...             ...                  ...             ...             ...   \n",
       "2021-10-25      BTC         60936.150851    61304.790355    61490.095150   \n",
       "2021-10-26      BTC         63004.381115    60860.032655    63661.925180   \n",
       "2021-10-27      BTC         60399.734933    63080.305703    63276.547846   \n",
       "2021-10-28      BTC         58602.202535    60329.938740    61486.427448   \n",
       "2021-10-29      BTC         60619.266944    58476.184714    62450.034023   \n",
       "\n",
       "            24h Low (USD)  \n",
       "Date                       \n",
       "2014-11-03     319.043500  \n",
       "2014-11-04     323.063330  \n",
       "2014-11-05     320.933330  \n",
       "2014-11-06     328.561660  \n",
       "2014-11-07     336.028330  \n",
       "...                   ...  \n",
       "2021-10-25   59553.027885  \n",
       "2021-10-26   60656.561825  \n",
       "2021-10-27   59925.126116  \n",
       "2021-10-28   58108.911168  \n",
       "2021-10-29   57965.311022  \n",
       "\n",
       "[2552 rows x 5 columns]>"
      ]
     },
     "execution_count": 13,
     "metadata": {},
     "output_type": "execute_result"
    }
   ],
   "source": [
    "price.min"
   ]
  },
  {
   "cell_type": "code",
   "execution_count": 23,
   "metadata": {},
   "outputs": [
    {
     "data": {
      "text/plain": [
       "<pandas.plotting._core.PlotAccessor object at 0x0000015F195B7B20>"
      ]
     },
     "execution_count": 23,
     "metadata": {},
     "output_type": "execute_result"
    }
   ],
   "source": [
    "price.loc ['2017'].plot"
   ]
  },
  {
   "cell_type": "code",
   "execution_count": null,
   "metadata": {},
   "outputs": [],
   "source": []
  }
 ],
 "metadata": {
  "interpreter": {
   "hash": "4f089b766032687b7793572354d87043176f7a74ef1d674420d3688b52613bdb"
  },
  "kernelspec": {
   "display_name": "Python 3.9.2 64-bit",
   "name": "python3"
  },
  "language_info": {
   "codemirror_mode": {
    "name": "ipython",
    "version": 3
   },
   "file_extension": ".py",
   "mimetype": "text/x-python",
   "name": "python",
   "nbconvert_exporter": "python",
   "pygments_lexer": "ipython3",
   "version": "3.9.2"
  },
  "orig_nbformat": 4
 },
 "nbformat": 4,
 "nbformat_minor": 2
}
